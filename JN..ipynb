{
 "cells": [
  {
   "cell_type": "code",
   "execution_count": 4,
   "metadata": {},
   "outputs": [
    {
     "name": "stdout",
     "output_type": "stream",
     "text": [
      "10-07 <class 'str'>\n",
      "10-07 <class 'str'>\n",
      "happy birth day!\n"
     ]
    }
   ],
   "source": [
    "\n",
    "from datetime import date\n",
    "# ask a date input\n",
    "inputi = input(\"birth day mm-dd\")\n",
    "# convert today date to right format\n",
    "today = str(date.today())  # convertto strirng to make it comparable\n",
    "today_date = today[5:10]  # we just want the day and month\n",
    "# set conditions for different situations\n",
    "if inputi == today_date:\n",
    "    print(\"happy birth day!\")\n",
    "else:\n",
    "    print(\"wrong day!\")\n",
    "\n",
    "print(inputi, type(inputi))\n",
    "print(today_date, type(today_date))\n",
    "\n",
    "\n"
   ]
  },
  {
   "cell_type": "code",
   "execution_count": null,
   "metadata": {},
   "outputs": [],
   "source": []
  }
 ],
 "metadata": {
  "kernelspec": {
   "display_name": "Python 3.10.7 64-bit (microsoft store)",
   "language": "python",
   "name": "python3"
  },
  "language_info": {
   "codemirror_mode": {
    "name": "ipython",
    "version": 3
   },
   "file_extension": ".py",
   "mimetype": "text/x-python",
   "name": "python",
   "nbconvert_exporter": "python",
   "pygments_lexer": "ipython3",
   "version": "3.10.7"
  },
  "orig_nbformat": 4,
  "vscode": {
   "interpreter": {
    "hash": "dcb345692597dcf3cb87ae0944fed68cb8defa67966c2290dca7b749c0a8f899"
   }
  }
 },
 "nbformat": 4,
 "nbformat_minor": 2
}
